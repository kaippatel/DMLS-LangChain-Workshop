{
  "cells": [
    {
      "cell_type": "markdown",
      "metadata": {
        "id": "view-in-github",
        "colab_type": "text"
      },
      "source": [
        "<a href=\"https://colab.research.google.com/github/kaippatel/dmls-langchain-workshop/blob/main/RAG_intro_to_Embeddings.ipynb\" target=\"_parent\"><img src=\"https://colab.research.google.com/assets/colab-badge.svg\" alt=\"Open In Colab\"/></a>"
      ]
    },
    {
      "cell_type": "markdown",
      "metadata": {
        "id": "7zmSjM8VHR1r"
      },
      "source": [
        "# **RAG Overview and Intro to Embeddings**\n",
        "\n",
        "## **📌Overview**\n",
        "RAG (Retrieval-Augmented Generation) is a technique that combines information retrieval with natural language generation. It works by first retrieving relevant documents or data from an external source (like a database or knowledge base), and then feeding that information into a language model to generate accurate and contextually relevant responses. This approach improves factuality and reduces hallucinations in AI-generated content."
      ]
    },
    {
      "cell_type": "code",
      "execution_count": 4,
      "metadata": {
        "id": "Pos9TcsRHR1s",
        "colab": {
          "base_uri": "https://localhost:8080/"
        },
        "outputId": "b8554e15-6494-4c38-de3d-5d403fd5cd44"
      },
      "outputs": [
        {
          "output_type": "stream",
          "name": "stdout",
          "text": [
            "Found existing installation: google-generativeai 0.8.4\n",
            "Uninstalling google-generativeai-0.8.4:\n",
            "  Successfully uninstalled google-generativeai-0.8.4\n",
            "Found existing installation: google-ai-generativelanguage 0.6.15\n",
            "Uninstalling google-ai-generativelanguage-0.6.15:\n",
            "  Successfully uninstalled google-ai-generativelanguage-0.6.15\n",
            "\u001b[2K   \u001b[90m━━━━━━━━━━━━━━━━━━━━━━━━━━━━━━━━━━━━━━━━\u001b[0m \u001b[32m437.6/437.6 kB\u001b[0m \u001b[31m6.0 MB/s\u001b[0m eta \u001b[36m0:00:00\u001b[0m\n",
            "\u001b[2K   \u001b[90m━━━━━━━━━━━━━━━━━━━━━━━━━━━━━━━━━━━━━━━━\u001b[0m \u001b[32m42.0/42.0 kB\u001b[0m \u001b[31m2.2 MB/s\u001b[0m eta \u001b[36m0:00:00\u001b[0m\n",
            "\u001b[2K   \u001b[90m━━━━━━━━━━━━━━━━━━━━━━━━━━━━━━━━━━━━━━━━\u001b[0m \u001b[32m155.4/155.4 kB\u001b[0m \u001b[31m9.0 MB/s\u001b[0m eta \u001b[36m0:00:00\u001b[0m\n",
            "\u001b[?25h"
          ]
        }
      ],
      "source": [
        "!pip uninstall -y google-generativeai google-ai-generativelanguage\n",
        "\n",
        "# Then install all dependencies in one go\n",
        "!pip install -qU \\\n",
        "  python-dotenv \\\n",
        "  langchain-core \\\n",
        "  langchain-google-genai \\\n",
        "  chromadb \\\n",
        "  pypdf \\\n",
        "  langchain-community \\\n",
        "  google-generativeai"
      ]
    },
    {
      "cell_type": "code",
      "execution_count": 5,
      "metadata": {
        "id": "6InDDbjcHR1t"
      },
      "outputs": [],
      "source": [
        "from langchain_core.messages import HumanMessage\n",
        "from langchain_google_genai import ChatGoogleGenerativeAI\n",
        "from langchain.prompts import ChatPromptTemplate"
      ]
    },
    {
      "cell_type": "markdown",
      "metadata": {
        "id": "dqEgH1oDHR1t"
      },
      "source": [
        "## **Obtain a Google Gemini API Key (GOOGLE COLLAB SETUP):**\n",
        "\n",
        "If you have a Google Gemini API Key:\n",
        "- Copy your API key and replace \"your_google_api_key_here\" in the code below\n",
        "\n",
        "Otherwise:  \n",
        "- Go to the Google AI Studio API Console: [Google AI Studio](https://aistudio.google.com/prompts/new_chat)\n",
        "- Sign in with your Google account and create a new API key.\n",
        "- Copy your API key and replace \"your_google_api_key_here\" in the code below"
      ]
    },
    {
      "cell_type": "code",
      "execution_count": 6,
      "metadata": {
        "id": "Zl8cAlP9HR1t"
      },
      "outputs": [],
      "source": [
        "# Set your Google API key manually\n",
        "import os\n",
        "os.environ[\"GOOGLE_API_KEY\"] = \"YOUR_API_KEY\""
      ]
    },
    {
      "cell_type": "markdown",
      "metadata": {
        "id": "iwtTIegkHR1t"
      },
      "source": [
        "## **Load Environment Variables (LOCAL SETUP)**"
      ]
    },
    {
      "cell_type": "code",
      "execution_count": 7,
      "metadata": {
        "id": "hIOa1JCMHR1t",
        "colab": {
          "base_uri": "https://localhost:8080/"
        },
        "outputId": "bdd1639d-48ae-4384-ce2a-a3a23fa993e9"
      },
      "outputs": [
        {
          "output_type": "execute_result",
          "data": {
            "text/plain": [
              "False"
            ]
          },
          "metadata": {},
          "execution_count": 7
        }
      ],
      "source": [
        "# Load environment variables\n",
        "from dotenv import load_dotenv\n",
        "load_dotenv()"
      ]
    },
    {
      "cell_type": "markdown",
      "metadata": {
        "id": "Q1H_TZdFHR1u"
      },
      "source": [
        "---\n",
        "\n",
        "## **Imports**  "
      ]
    },
    {
      "cell_type": "code",
      "execution_count": 8,
      "metadata": {
        "id": "2AQD6sXCHR1u"
      },
      "outputs": [],
      "source": [
        "from langchain.text_splitter import CharacterTextSplitter\n",
        "from langchain_community.document_loaders import TextLoader\n",
        "from langchain_community.vectorstores import Chroma\n",
        "from langchain_google_genai import GoogleGenerativeAIEmbeddings"
      ]
    },
    {
      "cell_type": "markdown",
      "metadata": {
        "id": "mecM0GMqHR1u"
      },
      "source": [
        "## **Colab File Setup**   "
      ]
    },
    {
      "cell_type": "code",
      "execution_count": 9,
      "metadata": {
        "id": "jstWgw83HR1u",
        "colab": {
          "base_uri": "https://localhost:8080/",
          "height": 74
        },
        "outputId": "f471c7a8-d28c-4679-b24f-b48a4c3659f9"
      },
      "outputs": [
        {
          "output_type": "display_data",
          "data": {
            "text/plain": [
              "<IPython.core.display.HTML object>"
            ],
            "text/html": [
              "\n",
              "     <input type=\"file\" id=\"files-ee94ed28-b2d4-479c-8cdb-7fd4841faa59\" name=\"files[]\" multiple disabled\n",
              "        style=\"border:none\" />\n",
              "     <output id=\"result-ee94ed28-b2d4-479c-8cdb-7fd4841faa59\">\n",
              "      Upload widget is only available when the cell has been executed in the\n",
              "      current browser session. Please rerun this cell to enable.\n",
              "      </output>\n",
              "      <script>// Copyright 2017 Google LLC\n",
              "//\n",
              "// Licensed under the Apache License, Version 2.0 (the \"License\");\n",
              "// you may not use this file except in compliance with the License.\n",
              "// You may obtain a copy of the License at\n",
              "//\n",
              "//      http://www.apache.org/licenses/LICENSE-2.0\n",
              "//\n",
              "// Unless required by applicable law or agreed to in writing, software\n",
              "// distributed under the License is distributed on an \"AS IS\" BASIS,\n",
              "// WITHOUT WARRANTIES OR CONDITIONS OF ANY KIND, either express or implied.\n",
              "// See the License for the specific language governing permissions and\n",
              "// limitations under the License.\n",
              "\n",
              "/**\n",
              " * @fileoverview Helpers for google.colab Python module.\n",
              " */\n",
              "(function(scope) {\n",
              "function span(text, styleAttributes = {}) {\n",
              "  const element = document.createElement('span');\n",
              "  element.textContent = text;\n",
              "  for (const key of Object.keys(styleAttributes)) {\n",
              "    element.style[key] = styleAttributes[key];\n",
              "  }\n",
              "  return element;\n",
              "}\n",
              "\n",
              "// Max number of bytes which will be uploaded at a time.\n",
              "const MAX_PAYLOAD_SIZE = 100 * 1024;\n",
              "\n",
              "function _uploadFiles(inputId, outputId) {\n",
              "  const steps = uploadFilesStep(inputId, outputId);\n",
              "  const outputElement = document.getElementById(outputId);\n",
              "  // Cache steps on the outputElement to make it available for the next call\n",
              "  // to uploadFilesContinue from Python.\n",
              "  outputElement.steps = steps;\n",
              "\n",
              "  return _uploadFilesContinue(outputId);\n",
              "}\n",
              "\n",
              "// This is roughly an async generator (not supported in the browser yet),\n",
              "// where there are multiple asynchronous steps and the Python side is going\n",
              "// to poll for completion of each step.\n",
              "// This uses a Promise to block the python side on completion of each step,\n",
              "// then passes the result of the previous step as the input to the next step.\n",
              "function _uploadFilesContinue(outputId) {\n",
              "  const outputElement = document.getElementById(outputId);\n",
              "  const steps = outputElement.steps;\n",
              "\n",
              "  const next = steps.next(outputElement.lastPromiseValue);\n",
              "  return Promise.resolve(next.value.promise).then((value) => {\n",
              "    // Cache the last promise value to make it available to the next\n",
              "    // step of the generator.\n",
              "    outputElement.lastPromiseValue = value;\n",
              "    return next.value.response;\n",
              "  });\n",
              "}\n",
              "\n",
              "/**\n",
              " * Generator function which is called between each async step of the upload\n",
              " * process.\n",
              " * @param {string} inputId Element ID of the input file picker element.\n",
              " * @param {string} outputId Element ID of the output display.\n",
              " * @return {!Iterable<!Object>} Iterable of next steps.\n",
              " */\n",
              "function* uploadFilesStep(inputId, outputId) {\n",
              "  const inputElement = document.getElementById(inputId);\n",
              "  inputElement.disabled = false;\n",
              "\n",
              "  const outputElement = document.getElementById(outputId);\n",
              "  outputElement.innerHTML = '';\n",
              "\n",
              "  const pickedPromise = new Promise((resolve) => {\n",
              "    inputElement.addEventListener('change', (e) => {\n",
              "      resolve(e.target.files);\n",
              "    });\n",
              "  });\n",
              "\n",
              "  const cancel = document.createElement('button');\n",
              "  inputElement.parentElement.appendChild(cancel);\n",
              "  cancel.textContent = 'Cancel upload';\n",
              "  const cancelPromise = new Promise((resolve) => {\n",
              "    cancel.onclick = () => {\n",
              "      resolve(null);\n",
              "    };\n",
              "  });\n",
              "\n",
              "  // Wait for the user to pick the files.\n",
              "  const files = yield {\n",
              "    promise: Promise.race([pickedPromise, cancelPromise]),\n",
              "    response: {\n",
              "      action: 'starting',\n",
              "    }\n",
              "  };\n",
              "\n",
              "  cancel.remove();\n",
              "\n",
              "  // Disable the input element since further picks are not allowed.\n",
              "  inputElement.disabled = true;\n",
              "\n",
              "  if (!files) {\n",
              "    return {\n",
              "      response: {\n",
              "        action: 'complete',\n",
              "      }\n",
              "    };\n",
              "  }\n",
              "\n",
              "  for (const file of files) {\n",
              "    const li = document.createElement('li');\n",
              "    li.append(span(file.name, {fontWeight: 'bold'}));\n",
              "    li.append(span(\n",
              "        `(${file.type || 'n/a'}) - ${file.size} bytes, ` +\n",
              "        `last modified: ${\n",
              "            file.lastModifiedDate ? file.lastModifiedDate.toLocaleDateString() :\n",
              "                                    'n/a'} - `));\n",
              "    const percent = span('0% done');\n",
              "    li.appendChild(percent);\n",
              "\n",
              "    outputElement.appendChild(li);\n",
              "\n",
              "    const fileDataPromise = new Promise((resolve) => {\n",
              "      const reader = new FileReader();\n",
              "      reader.onload = (e) => {\n",
              "        resolve(e.target.result);\n",
              "      };\n",
              "      reader.readAsArrayBuffer(file);\n",
              "    });\n",
              "    // Wait for the data to be ready.\n",
              "    let fileData = yield {\n",
              "      promise: fileDataPromise,\n",
              "      response: {\n",
              "        action: 'continue',\n",
              "      }\n",
              "    };\n",
              "\n",
              "    // Use a chunked sending to avoid message size limits. See b/62115660.\n",
              "    let position = 0;\n",
              "    do {\n",
              "      const length = Math.min(fileData.byteLength - position, MAX_PAYLOAD_SIZE);\n",
              "      const chunk = new Uint8Array(fileData, position, length);\n",
              "      position += length;\n",
              "\n",
              "      const base64 = btoa(String.fromCharCode.apply(null, chunk));\n",
              "      yield {\n",
              "        response: {\n",
              "          action: 'append',\n",
              "          file: file.name,\n",
              "          data: base64,\n",
              "        },\n",
              "      };\n",
              "\n",
              "      let percentDone = fileData.byteLength === 0 ?\n",
              "          100 :\n",
              "          Math.round((position / fileData.byteLength) * 100);\n",
              "      percent.textContent = `${percentDone}% done`;\n",
              "\n",
              "    } while (position < fileData.byteLength);\n",
              "  }\n",
              "\n",
              "  // All done.\n",
              "  yield {\n",
              "    response: {\n",
              "      action: 'complete',\n",
              "    }\n",
              "  };\n",
              "}\n",
              "\n",
              "scope.google = scope.google || {};\n",
              "scope.google.colab = scope.google.colab || {};\n",
              "scope.google.colab._files = {\n",
              "  _uploadFiles,\n",
              "  _uploadFilesContinue,\n",
              "};\n",
              "})(self);\n",
              "</script> "
            ]
          },
          "metadata": {}
        },
        {
          "output_type": "stream",
          "name": "stdout",
          "text": [
            "Saving 1984.txt to 1984.txt\n"
          ]
        }
      ],
      "source": [
        "from google.colab import files\n",
        "uploaded = files.upload()  # Upload your 1984.txt when prompted"
      ]
    },
    {
      "cell_type": "markdown",
      "metadata": {
        "id": "EUAXYlq4HR1u"
      },
      "source": [
        "\n",
        "## **Use current directory for persistence**"
      ]
    },
    {
      "cell_type": "code",
      "execution_count": 10,
      "metadata": {
        "id": "0uUdele2HR1u"
      },
      "outputs": [],
      "source": [
        "persistent_directory = \"/content/chroma_db\"\n"
      ]
    },
    {
      "cell_type": "markdown",
      "metadata": {
        "id": "URX7e3reHR1v"
      },
      "source": [
        "## **Load Document**"
      ]
    },
    {
      "cell_type": "code",
      "execution_count": 11,
      "metadata": {
        "id": "A0infmn-HR1v"
      },
      "outputs": [],
      "source": [
        "loader = TextLoader(\"1984.txt\")  # Use uploaded filename\n",
        "documents = loader.load()"
      ]
    },
    {
      "cell_type": "markdown",
      "metadata": {
        "id": "5CZNYD63HR1v"
      },
      "source": [
        "## **Split Documents**\n",
        "\n",
        "The CharacterTextSplitter works like this:\n",
        "\n",
        "Tries to split at \\n\\n (default separator)\n",
        "\n",
        "If no split found, tries \\n\n",
        "\n",
        "If still no split, falls back to splitting at the first space after chunk_size\n",
        "\n",
        "Your text contains sections without natural split points (like paragraphs without line breaks), forcing the splitter to create larger chunks than requested.\n",
        "\n",
        "If the chunk is longer than the specified size, a Warning will be shown for each chunk.\n"
      ]
    },
    {
      "cell_type": "code",
      "execution_count": 27,
      "metadata": {
        "id": "DacaV_3UHR1v"
      },
      "outputs": [],
      "source": [
        "text_splitter = CharacterTextSplitter(separator=\" \",chunk_size=1000, chunk_overlap=0)\n",
        "docs = text_splitter.split_documents(documents)"
      ]
    },
    {
      "cell_type": "markdown",
      "metadata": {
        "id": "HKTk8Dq3HR1v"
      },
      "source": [
        "---\n",
        "\n",
        "## **Initialize Gemini Embeddings**"
      ]
    },
    {
      "cell_type": "code",
      "execution_count": 28,
      "metadata": {
        "id": "DQQhoEdsHR1v"
      },
      "outputs": [],
      "source": [
        "embeddings = GoogleGenerativeAIEmbeddings(model=\"models/text-embedding-004\")"
      ]
    },
    {
      "cell_type": "markdown",
      "source": [
        "## **Create/Persist Vector Store**"
      ],
      "metadata": {
        "id": "d8kdGmCodWkc"
      }
    },
    {
      "cell_type": "code",
      "source": [
        "db = Chroma.from_documents(\n",
        "    docs,\n",
        "    embeddings,\n",
        "    persist_directory=persistent_directory\n",
        ")"
      ],
      "metadata": {
        "id": "4STHEBD8dl9G"
      },
      "execution_count": 29,
      "outputs": []
    },
    {
      "cell_type": "markdown",
      "source": [
        "# **Setup LLM**"
      ],
      "metadata": {
        "id": "CPQA7UL6IYIt"
      }
    },
    {
      "cell_type": "code",
      "source": [
        "from langchain_google_genai import ChatGoogleGenerativeAI\n",
        "from langchain.chains import RetrievalQA\n",
        "\n",
        "# Set up Google Gemini LLM\n",
        "llm = ChatGoogleGenerativeAI(model=\"gemini-2.0-flash-exp-image-generation\")"
      ],
      "metadata": {
        "collapsed": true,
        "id": "TTc0cNiBK00b"
      },
      "execution_count": 30,
      "outputs": []
    },
    {
      "cell_type": "code",
      "source": [
        "# Create QA chain\n",
        "qa_chain = RetrievalQA.from_chain_type(\n",
        "    llm,\n",
        "    retriever=db.as_retriever(\n",
        "        search_type=\"similarity_score_threshold\",\n",
        "        search_kwargs={\"k\": 3, \"score_threshold\": 0.5}  # Adjusted threshold for Gemini\n",
        "    ),\n",
        "    return_source_documents=True\n",
        ")"
      ],
      "metadata": {
        "id": "Upp6KhixXzcV"
      },
      "execution_count": 31,
      "outputs": []
    },
    {
      "cell_type": "code",
      "source": [
        "# Ask your question\n",
        "query = \"What is the name of the city or place where 1984 is set?\"\n",
        "result = qa_chain.invoke({\"query\": query})\n",
        "\n",
        "# Display results\n",
        "print(\"\\n--- Answer ---\")\n",
        "print(result[\"result\"])\n",
        "\n",
        "print(\"\\n--- Supporting Documents ---\")\n",
        "for i, doc in enumerate(result[\"source_documents\"], 1):\n",
        "    print(f\"\\nDocument {i}:\")\n",
        "    print(doc.page_content)\n",
        "    print(f\"\\nMetadata: {doc.metadata}\")"
      ],
      "metadata": {
        "colab": {
          "base_uri": "https://localhost:8080/"
        },
        "id": "fvVFyuv4X2gc",
        "outputId": "954a48fd-7aa8-4735-d9bf-0fa007424a74"
      },
      "execution_count": 32,
      "outputs": [
        {
          "output_type": "stream",
          "name": "stdout",
          "text": [
            "\n",
            "--- Answer ---\n",
            "The novel 1984 is set in London, the chief city of Airstrip One. Airstrip One is the third most populous of the provinces of Oceania.\n",
            "\n",
            "--- Supporting Documents ---\n",
            "\n",
            "Document 1:\n",
            "in\n",
            "darkness, every movement scrutinized.\n",
            "\n",
            "Winston kept his back turned to the telescreen. It was safer; though, as he\n",
            "well knew, even a back can be revealing. A kilometre away the Ministry of\n",
            "Truth, his place of work, towered vast and white above the grimy landscape.\n",
            "This, he thought with a sort of vague distaste--this was London, chief\n",
            "city of Airstrip One, itself the third most populous of the provinces of\n",
            "Oceania. He tried to squeeze out some childhood memory that should tell him\n",
            "whether London had always been quite like this. Were there always these\n",
            "vistas of rotting nineteenth-century houses, their sides shored up with\n",
            "baulks of timber, their windows patched with cardboard and their roofs\n",
            "with corrugated iron, their crazy garden walls sagging in all directions?\n",
            "And the bombed sites where the plaster dust swirled in the air and the\n",
            "willow-herb straggled over the heaps of rubble; and the places where the\n",
            "bombs had cleared a larger patch and there had sprung up sordid colonies\n",
            "of\n",
            "\n",
            "Metadata: {'source': '1984.txt'}\n",
            "\n",
            "Document 2:\n",
            "Winston kept his back turned to the telescreen. It was safer; though, as he\n",
            "well knew, even a back can be revealing. A kilometre away the Ministry of\n",
            "Truth, his place of work, towered vast and white above the grimy landscape.\n",
            "This, he thought with a sort of vague distaste--this was London, chief\n",
            "city of Airstrip One, itself the third most populous of the provinces of\n",
            "Oceania. He tried to squeeze out some childhood memory that should tell him\n",
            "whether London had always been quite like this. Were there always these\n",
            "vistas of rotting nineteenth-century houses, their sides shored up with\n",
            "baulks of timber, their windows patched with cardboard and their roofs\n",
            "with corrugated iron, their crazy garden walls sagging in all directions?\n",
            "And the bombed sites where the plaster dust swirled in the air and the\n",
            "willow-herb straggled over the heaps of rubble; and the places where the\n",
            "bombs had cleared a larger patch and there had sprung up sordid colonies\n",
            "of wooden dwellings like chicken-houses? But it was no use, he could not\n",
            "remember: nothing remained of his childhood except a series of bright-lit\n",
            "tableaux occurring against no background and mostly unintelligible.\n",
            "\n",
            "Metadata: {'source': '1984.txt'}\n",
            "\n",
            "Document 3:\n",
            "Project Gutenberg Australia\n",
            "\n",
            "\n",
            "\n",
            "Title: Nineteen eighty-four\n",
            "Author: George Orwell (pseudonym of Eric Blair) (1903-1950)\n",
            "* A Project Gutenberg of Australia eBook *\n",
            "eBook No.: 0100021.txt\n",
            "Language: English\n",
            "Date first posted: August 2001\n",
            "Date most recently updated: November 2008\n",
            "\n",
            "Project Gutenberg of Australia eBooks are created from printed editions\n",
            "which are in the public domain in Australia, unless a copyright notice\n",
            "is included. We do NOT keep any eBooks in compliance with a particular\n",
            "paper edition.\n",
            "\n",
            "Copyright laws are changing all over the world. Be sure to check the\n",
            "copyright laws for your country before downloading or redistributing this\n",
            "file.\n",
            "\n",
            "This eBook is made available at no cost and with almost no restrictions\n",
            "whatsoever. You may copy it, give it away or re-use it under the terms\n",
            "of the Project Gutenberg of Australia License which may be viewed online at\n",
            "gutenberg.net.au/licence.html\n",
            "\n",
            "To contact Project Gutenberg of Australia go to gutenberg.net.au\n",
            "\n",
            "\n",
            "Title: Nineteen\n",
            "\n",
            "Metadata: {'source': '1984.txt'}\n"
          ]
        }
      ]
    }
  ],
  "metadata": {
    "kernelspec": {
      "display_name": ".venv",
      "language": "python",
      "name": "python3"
    },
    "language_info": {
      "codemirror_mode": {
        "name": "ipython",
        "version": 3
      },
      "file_extension": ".py",
      "mimetype": "text/x-python",
      "name": "python",
      "nbconvert_exporter": "python",
      "pygments_lexer": "ipython3",
      "version": "3.11.11"
    },
    "colab": {
      "provenance": [],
      "include_colab_link": true
    }
  },
  "nbformat": 4,
  "nbformat_minor": 0
}